{
  "nbformat": 4,
  "nbformat_minor": 0,
  "metadata": {
    "colab": {
      "name": "CV_Project_2.ipynb",
      "provenance": [],
      "collapsed_sections": []
    },
    "kernelspec": {
      "name": "python3",
      "display_name": "Python 3"
    },
    "language_info": {
      "name": "python"
    },
    "accelerator": "GPU"
  },
  "cells": [
    {
      "cell_type": "code",
      "metadata": {
        "colab": {
          "base_uri": "https://localhost:8080/"
        },
        "id": "cfieJHiICIoS",
        "outputId": "573102e1-b5db-49bb-a909-21a61f0d16b1"
      },
      "source": [
        "from google.colab import drive\n",
        "drive.mount('/content/drive', force_remount=True)\n"
      ],
      "execution_count": 28,
      "outputs": [
        {
          "output_type": "stream",
          "name": "stdout",
          "text": [
            "Mounted at /content/drive\n"
          ]
        }
      ]
    },
    {
      "cell_type": "code",
      "metadata": {
        "id": "Eus_jEqJDF7z"
      },
      "source": [
        ""
      ],
      "execution_count": null,
      "outputs": []
    },
    {
      "cell_type": "code",
      "metadata": {
        "id": "FCHYJ0PDCerT"
      },
      "source": [
        "import cv2\n",
        "import numpy as np\n",
        "import os\n",
        "import csv"
      ],
      "execution_count": 29,
      "outputs": []
    },
    {
      "cell_type": "markdown",
      "metadata": {
        "id": "d_EwWARYDFfL"
      },
      "source": [
        ""
      ]
    },
    {
      "cell_type": "code",
      "metadata": {
        "id": "k1RCz4tJCfh9"
      },
      "source": [
        "trainingDataset = []\n",
        "img_size = 100\n",
        "path = \"/content/drive/My Drive/CV_Project_2/Train2\"\n"
      ],
      "execution_count": 30,
      "outputs": []
    },
    {
      "cell_type": "code",
      "metadata": {
        "colab": {
          "base_uri": "https://localhost:8080/"
        },
        "id": "e7MEZnN5CmzQ",
        "outputId": "cde9fb26-3327-4be8-ab5b-8748fde58f20"
      },
      "source": [
        "classNumber = 0\n",
        "trainingDataset.clear()\n",
        "\n",
        "for folder in (os.listdir(path)):\n",
        "  print(classNumber)\n",
        "  print(\"Folder Name:\",folder)\n",
        "  # folder = with_mask ,without_mask\n",
        "  fp = os.path.join(path,folder)\n",
        "  # joining folder like /content/Face_Mask/Train/with_mask\n",
        "  for eachImage in os.listdir(fp):\n",
        "    imagePath = os.path.join(fp,eachImage)\n",
        "    img = (cv2.imread(imagePath,cv2.IMREAD_GRAYSCALE))/255\n",
        "    resize=cv2.resize(img,(img_size,img_size))\n",
        "    trainingDataset.append([resize,classNumber])\n",
        "  classNumber = classNumber + 1"
      ],
      "execution_count": 31,
      "outputs": [
        {
          "output_type": "stream",
          "name": "stdout",
          "text": [
            "0\n",
            "Folder Name: burger\n",
            "1\n",
            "Folder Name: butter_naan\n",
            "2\n",
            "Folder Name: chai\n",
            "3\n",
            "Folder Name: chapati\n",
            "4\n",
            "Folder Name: pizza\n",
            "5\n",
            "Folder Name: samosa\n",
            "6\n",
            "Folder Name: dhokla\n",
            "7\n",
            "Folder Name: jalebi\n",
            "8\n",
            "Folder Name: kulfi\n",
            "9\n",
            "Folder Name: paani_puri\n"
          ]
        }
      ]
    },
    {
      "cell_type": "code",
      "metadata": {
        "id": "xozxUPORCnpI"
      },
      "source": [
        "import tensorflow as tf\n",
        "from tensorflow.keras.models import Sequential\n",
        "from tensorflow.keras.layers import Dense, Dropout, Activation, Flatten\n",
        "from tensorflow.keras.layers import Conv2D, MaxPooling2D\n",
        "from tensorflow.keras.callbacks import TensorBoard\n",
        "from tensorflow.keras.utils import to_categorical\n",
        "import matplotlib.pyplot as plt\n",
        "import pickle\n",
        "import time"
      ],
      "execution_count": 32,
      "outputs": []
    },
    {
      "cell_type": "code",
      "metadata": {
        "id": "Vi1eEOTXCpSh",
        "colab": {
          "base_uri": "https://localhost:8080/"
        },
        "outputId": "ee4f5b22-8db1-4308-e964-fe3c5cc64807"
      },
      "source": [
        "X = []\n",
        "Y = []\n",
        "img_size = 100\n",
        "np.random.shuffle(trainingDataset)\n",
        "for features, label in trainingDataset:\n",
        "    X.append(features)\n",
        "    Y.append(label)\n",
        "print(Y) "
      ],
      "execution_count": 33,
      "outputs": [
        {
          "output_type": "stream",
          "name": "stdout",
          "text": [
            "[8, 1, 2, 3, 1, 6, 2, 2, 6, 5, 0, 2, 1, 2, 4, 1, 2, 0, 8, 6, 7, 5, 3, 6, 4, 2, 7, 2, 7, 6, 8, 1, 2, 0, 0, 5, 4, 7, 8, 5, 2, 3, 6, 3, 9, 6, 8, 2, 2, 4, 5, 4, 1, 4, 4, 4, 8, 1, 7, 3, 1, 7, 1, 0, 4, 8, 3, 8, 8, 3, 0, 2, 1, 2, 7, 5, 1, 3, 0, 8, 7, 3, 2, 3, 1, 5, 7, 1, 7, 6, 7, 1, 2, 5, 1, 4, 3, 2, 6, 4, 3, 2, 9, 6, 8, 0, 4, 2, 5, 4, 5, 1, 1, 8, 3, 8, 5, 3, 2, 4, 7, 5, 6, 4, 5, 9, 0, 7, 0, 7, 8, 7, 4, 4, 2, 1, 7, 6, 5, 6, 4, 7, 4, 7, 1, 1, 3, 4, 5, 6, 1, 7, 7, 1, 2, 2, 7, 4, 6, 6, 5, 1, 3, 8, 8, 4, 2, 3, 9, 8, 2, 1, 3, 0, 6, 2, 0, 4, 3, 8, 4, 7, 3, 7, 2, 2, 4, 4, 4, 5, 7, 5, 6, 8, 1, 2, 8, 3, 7, 9, 8, 3, 1, 2, 6, 1, 7, 3, 6, 8, 5, 4, 6, 7, 2, 4, 1, 4, 5, 3, 7, 2, 9, 3, 0, 7, 1, 7, 1, 7, 0, 3, 8, 3, 3, 3, 3, 4, 7, 6, 0, 6, 8, 2, 3, 7, 4, 8, 0, 1, 1, 9, 4, 5, 7, 8, 7, 5, 1, 5, 8, 7, 0, 9, 2, 3, 3, 3, 3, 4, 1, 1, 3, 5, 0, 5, 4, 7, 8, 7, 7, 7, 8, 1, 1, 4, 9, 7, 7, 0, 7, 4, 3, 3, 0, 4, 2, 6, 4, 1, 8, 5, 0, 7, 8, 3, 3, 0, 3, 0, 2, 5, 6, 2, 3, 6, 1, 8, 6, 4, 3, 9, 0, 3, 6, 0, 6, 4, 8, 4, 5, 5, 1, 1, 8, 5, 3, 8, 6, 1, 7, 4, 7, 2, 2, 5, 9, 9, 2, 5, 1, 7, 3, 8, 3, 7, 3, 2, 1, 4, 6, 2, 1, 3, 4, 5, 7, 3, 2, 2, 1, 7, 6, 0, 8, 7, 6, 2, 2, 0, 1, 3, 2, 5, 0, 4, 7, 3, 6, 0, 7, 1, 5, 7, 5, 3, 3, 4, 1, 0, 3, 4, 3, 5, 0, 1, 6, 8, 1, 4, 0, 4, 0, 0, 7, 1, 7, 2, 3, 7, 3, 5, 2, 6, 2, 8, 0, 4, 3, 3, 7, 5, 6, 4, 4, 1, 1, 6, 4, 0, 9, 4, 2, 3, 9, 0, 0, 4, 1, 8, 3, 3, 0, 4, 2, 3, 7, 7, 1, 3, 0, 7, 4, 6, 8, 3, 2, 8, 5, 2, 2, 3, 2, 3, 2, 4, 3, 6, 4, 6, 5, 4, 6, 9, 3, 0, 1, 6, 2, 6, 2, 0, 1, 0, 1, 1, 6, 6, 3, 3, 3, 1, 0, 2, 4, 5, 8, 3, 0, 6, 7, 2, 9, 9, 4, 8, 5, 0, 2, 3, 1, 9, 0, 7, 2, 0, 8, 4, 9, 7, 2, 3, 4, 0, 6, 3, 8, 6, 0, 4, 1, 3, 3, 0, 3, 7, 0, 3, 2, 6, 2, 7, 5, 5, 0, 1, 1, 8, 3, 1, 3, 8, 4, 3, 8, 0, 2, 0, 4, 5, 9, 7, 1, 0, 4, 3, 2, 8, 2, 7, 2, 7, 7, 8, 2, 9, 7, 6, 0, 6, 2, 3, 6, 9, 1, 3, 5, 0, 0, 6, 8, 0, 4, 7, 2, 8, 0, 2, 7, 5, 7, 2, 8, 1, 1, 4, 3, 4, 1, 5, 6, 8, 7, 6, 3, 8, 4, 2, 4, 9, 7, 6, 0, 7, 2, 0, 7, 3, 5, 7, 7, 0, 3, 7, 2, 4, 1, 7, 5, 2, 9, 7, 4, 4, 7, 0, 7, 2, 8, 5, 0, 1, 6, 6, 4, 1, 8, 6, 1, 0, 7, 9, 8, 1, 7, 7, 0, 6, 7, 7, 5, 2, 6, 8, 2, 9, 7, 1, 1, 6, 8, 5, 2, 6, 6, 9, 8, 6, 8, 8, 6, 3, 7, 3, 5, 3, 5, 6, 1, 8, 7, 0, 3, 9, 0, 3, 6, 3, 3, 9, 7, 3, 3, 1, 4, 1, 1, 7, 2, 3, 2, 2, 7, 6, 0, 3, 5, 9, 9, 0, 2, 8, 3, 0, 6, 3, 9, 6, 4, 3, 5, 1, 1, 4, 9, 9, 3, 1, 2, 4, 6, 4, 1, 7, 7, 7, 8, 3, 6, 2, 3, 6, 7, 0, 4, 5, 0, 3, 7, 2, 8, 6, 2, 6, 7, 1, 8, 2, 3, 1, 5, 2, 6, 6, 1, 6, 0, 3, 2, 5, 7, 4, 5, 8, 6, 4, 1, 4, 7, 2, 9, 2, 4, 6, 0, 5, 1, 8, 2, 6, 2, 7, 1, 6, 0, 3, 0, 8, 8, 5, 5, 6, 6, 1, 7, 5, 5, 6, 7, 7, 5, 3, 7, 3, 2, 4, 7, 6, 6, 3, 1, 5, 1, 2, 7, 3, 1, 2, 5, 0, 8, 1, 3, 9, 7, 6, 3, 7, 3, 5, 7, 2, 7, 3, 3, 2, 2, 7, 6, 9, 9, 5, 1, 0, 7, 3, 5, 3, 6, 1, 5, 4, 6, 5, 7, 4, 7, 3, 1, 0, 0, 3, 5, 2, 2, 1, 2, 3, 0, 4, 9, 0, 4, 2, 3, 2, 5, 1, 1, 2, 2, 2, 1, 2, 4, 4, 8, 2, 6, 5, 8, 3, 0, 4, 2, 2, 3, 0, 4, 9, 5, 5, 7, 3, 1, 9, 4, 7, 5, 4, 3, 1, 8, 7, 1, 5, 7, 3, 2, 5, 4, 6, 0, 6, 5, 8, 3, 3, 1, 3, 0, 2, 6, 2, 8, 6, 1, 1, 5, 1, 8, 4, 2, 5, 3, 1, 8, 3, 7, 7, 5, 6, 5, 0, 5, 7, 8, 2, 8, 0, 8, 2, 3, 3, 6, 8, 0, 2, 4, 6, 8, 0, 5, 1, 4, 7, 3, 1, 5, 2, 0, 9, 5, 0, 2, 5, 0, 3, 2, 3, 6, 1, 3, 1, 0, 5, 2, 3, 2, 3, 0, 7, 7, 9, 6, 7, 4, 7, 4, 6, 7, 6, 4, 0, 7, 4, 3, 8, 0, 0, 2, 4, 6, 1, 3, 9, 0, 8, 0, 1, 6, 8, 2, 3, 3, 3, 0, 0, 7, 6, 0, 6, 3, 8, 2, 7, 2, 3, 7, 8, 4, 3, 2, 8, 0, 8, 6, 3, 2, 7, 1, 4, 2, 0, 4, 6, 4, 2, 9, 0, 2, 7, 5, 3, 0, 4, 3, 0, 4, 2, 6, 6, 0, 9, 3, 7, 9, 2, 5, 6, 9, 2, 2, 1, 0, 3, 0, 6, 2, 9, 2, 6, 3, 9, 3, 2, 2, 3, 1, 3, 8, 0, 5, 6, 8, 5, 3, 1, 2, 1, 7, 4, 3, 7, 0, 5, 2, 6, 7, 1, 7, 5, 4, 4, 7, 8, 0, 7, 1, 0, 5, 2, 7, 8, 2, 3, 3, 9, 8, 8, 3, 3, 6, 4, 4, 4, 7, 1, 0, 6, 8, 9, 6, 5, 7, 2, 5, 2, 0, 7, 3, 2, 9, 7, 4, 3, 2, 0, 5, 1, 6, 0, 9, 4, 0, 9, 4, 3, 1, 7, 8, 4, 2, 4, 1, 5, 3, 2, 1, 5, 0, 7, 1, 0, 8, 8, 5, 9, 2, 6, 9, 6, 8, 2, 7, 3, 1, 6, 6, 3, 4, 4, 0, 7, 5, 6, 7, 1, 3, 2, 2, 5, 1, 3, 3, 7, 5, 8, 0, 7, 7, 2, 4, 7, 1, 7, 1, 8, 6, 3, 4, 9, 0, 2, 0, 6, 4, 3, 8, 9, 1, 5, 5, 2, 9, 7, 2, 9, 9, 6, 5, 3, 5, 3, 3, 3, 1, 4, 0, 4, 1, 3, 8, 2, 3, 8, 1, 2, 2, 0, 7, 5, 0, 0, 2, 2, 2, 5, 8, 1, 1, 1, 7, 1, 9, 4, 0, 4, 2, 3, 0, 6, 2, 3, 3, 0, 0, 4, 0, 0, 3, 6, 8, 4, 3, 1, 4, 0, 1, 3, 8, 6, 1, 6, 8, 0, 2, 6, 5, 9, 2, 5, 2, 0, 9, 8, 5, 6, 6, 5, 8, 3, 3, 2, 0, 4, 2, 5, 1, 2, 3, 0, 3, 9, 7, 3, 7, 0, 8, 3, 0, 1, 6, 6, 7, 5, 8, 7, 1, 9, 7, 0, 3, 1, 6, 9, 0, 0, 4, 0, 5, 1, 2, 1, 3, 8, 0, 1, 5, 0, 1, 3, 1, 8, 2, 3, 6, 7, 4, 9, 3, 5, 6, 4, 6, 8, 2, 3, 9, 4, 5, 2, 0, 6, 1, 1, 6, 9, 3, 2, 8, 9, 0, 2, 2, 7, 2, 3, 2, 2, 0, 1, 4, 0, 5, 9, 9, 0, 7, 9, 1, 7, 6, 2, 7, 3, 0, 5, 6, 0, 1, 0, 1, 5, 4, 4, 4, 3, 0, 1, 5, 4, 3, 3, 7, 1, 9, 4, 7, 0, 4, 5, 8, 6, 2, 6, 5, 0, 8, 1, 1, 1, 0, 4, 6, 3, 9, 1, 7, 6, 1, 2, 2, 3, 0, 1, 5, 3, 0, 1, 7, 8, 9, 5, 7, 5, 8, 5, 6, 1, 0, 2, 1, 7, 0, 5, 4, 9, 0, 5, 3, 1, 6, 0, 2, 9, 0, 2, 0, 0, 2, 2, 2, 7, 5, 8, 8, 8, 0, 9, 2, 1, 4, 4, 0, 1, 0, 4, 6, 2, 5, 3, 6, 3, 3, 8, 0, 1, 7, 2, 8, 0, 8, 0, 8, 6, 1, 3, 0, 0, 7, 2, 6, 2, 1, 4, 4, 4, 7, 1, 1, 1, 0, 3, 0, 7, 5, 7, 3, 1, 5, 1, 2, 5, 2, 2, 9, 0, 6, 6, 6, 2, 0, 4, 8, 6, 6, 6, 5, 2, 3, 6, 1, 9, 0, 6, 3, 6, 0, 5, 5, 1, 3, 5, 2, 7, 2, 3, 0, 1, 4, 6, 1, 2, 6, 5, 6, 3, 5, 5, 6, 0, 3, 6, 0, 2, 0, 4, 3, 7, 5, 7, 5, 6, 2, 1, 9, 2, 2, 2, 7, 6, 5, 9, 9, 7, 3, 3, 4, 4, 0, 3, 4, 8, 5, 2, 5, 3, 8, 3, 2, 5, 2, 1, 3, 2, 6, 4, 6, 3, 1, 7, 0, 2, 7, 7, 2, 0, 3, 5, 3, 1, 6, 3, 1, 4, 1, 0, 1, 7, 2, 3, 1, 3, 1, 3, 4, 1, 3, 0, 7, 4, 6, 3, 7, 1, 1, 4, 4, 7, 5, 8, 4, 6, 5, 4, 6, 1, 7, 2, 4, 2, 8, 8, 5, 5, 8, 5, 2, 5, 7, 2, 4, 8, 3, 8, 4, 1, 6, 6, 2, 6, 7, 3, 3, 3, 8, 8, 7, 3, 0, 1, 7, 7, 3, 0, 3, 2, 3, 3, 0, 7, 4, 4, 7, 5, 4, 1, 3, 9, 5, 5, 0, 5, 1, 5, 4, 2, 2, 6, 6, 4, 4, 0, 7, 7, 2, 5, 6, 2, 2, 4, 7, 4, 0, 3, 8, 3, 3, 6, 3, 8, 6, 0, 4, 2, 1, 7, 8, 8, 4, 7, 2, 2, 3, 8, 3, 0, 7, 0, 7, 4, 6, 8, 9, 2, 4, 3, 6, 6, 2, 2, 3, 7, 1, 6, 5, 2, 4, 6, 9, 3, 3, 1, 3, 3, 2, 7, 8, 4, 1, 2, 2, 2, 6, 7, 2, 4, 2, 1, 2, 3, 1, 0, 8, 0, 3, 1, 6, 1, 4, 9, 2, 8, 5, 6, 6, 5, 7, 3, 3, 2, 3, 3, 2, 5, 3, 3, 2, 1, 3, 3, 0, 2, 3, 1, 2, 2, 1, 5, 6, 2, 0, 5, 7, 8, 3, 3, 0, 2, 4, 1, 1, 2, 7, 0, 4, 4, 2, 3, 6, 1, 0, 5, 1, 2, 3, 2, 0, 7, 2, 5, 4, 3, 5, 7, 2, 3, 6, 4, 0, 1, 3, 3, 9, 5, 3, 8, 7, 8, 8, 0, 9, 5, 1, 2, 1, 1, 5, 1, 3, 0, 5, 2, 8, 3, 3, 7, 6, 3, 6, 6, 1, 1, 0, 1, 2, 2, 7, 5, 8, 8, 5, 1, 6, 1, 2, 2, 8, 0, 3, 3, 9, 2, 0, 0, 2, 8, 0, 4, 6, 7, 5, 0, 4, 9, 9, 5, 7, 1, 5, 2, 3, 8, 9, 1, 8, 0, 9, 0, 5, 7, 5, 0, 6, 4, 7, 4, 6, 5, 4, 1, 5, 4, 3, 1, 6, 2, 1, 7, 6, 4, 3, 3, 1, 6, 2, 1, 2, 4, 2, 4, 6, 7, 1, 1, 7, 8, 0, 3, 7, 6, 1, 2, 0, 6, 3, 2, 7, 1, 2, 1, 1, 1, 0, 8, 7, 5, 8, 8, 1, 6, 2, 6, 8, 3, 1, 6, 2, 3, 0, 3, 7, 8, 0, 7, 5, 6, 0, 6, 7, 4, 7, 3, 0, 3, 8, 7, 2, 7, 1, 5, 5, 8, 2, 1, 6, 1, 5, 9, 1, 3, 1, 2, 9, 7, 2, 2, 3, 3, 0, 2, 7, 9, 2, 7, 2, 5, 4, 2, 8, 5, 1, 3, 8, 3, 4, 0, 5, 3, 4, 2, 6, 8, 0, 7, 2, 6, 2, 9, 5, 3, 8, 5, 6, 6, 3, 8, 2, 6, 6, 2, 0, 6, 1, 6, 5, 7, 6, 5, 8, 0, 3, 8, 6, 2, 8, 5, 4, 8, 8, 6, 8, 9, 1, 3, 2, 6, 0, 6, 3, 1, 6, 4, 8, 0, 6, 5, 2, 3, 2, 6, 1, 2, 0, 4, 7, 7, 7, 7, 0, 2, 1, 4, 2, 2, 7, 0, 4, 1, 1, 9, 1, 6, 1, 0, 2, 0, 0, 4, 1, 7, 6, 5, 3, 3, 8, 1, 5, 2, 1, 2, 7, 1, 3, 8, 8, 7, 4, 6, 5, 5, 3, 7, 1, 7, 0, 2, 5, 2, 3, 5, 9, 3, 5, 3, 4, 7, 7, 3, 6, 3, 2, 6, 6, 4, 2, 3, 2, 3, 9, 6, 0, 3, 4, 6, 3, 7, 3, 6, 9, 1, 0, 1, 1, 3, 3, 5, 6, 6, 2, 5, 0, 9, 9, 0, 4, 3, 5, 2, 2, 1, 3, 6, 0, 1, 3, 7, 3, 2, 4, 6, 3, 4, 0, 8, 2, 8, 2, 2, 1, 4, 3, 2, 4, 3, 5, 2, 5, 2, 8, 8, 1, 9, 0, 0, 0, 7, 2, 2, 3, 2, 3, 2, 2, 6, 5, 8, 4, 5, 3, 3, 1, 0, 1, 8, 0, 9, 2, 2, 0, 1, 2, 7, 2, 8, 2, 3, 3, 1, 8, 0, 3, 6, 4, 0, 7, 3, 0, 3, 7, 4, 2, 8, 5, 6, 9, 3, 0, 6, 7, 3, 0, 1, 0, 8, 1, 2, 2, 7, 6, 8, 7, 0, 1, 4, 8, 2, 8, 6, 2, 2, 6, 3, 3, 2, 4, 1, 2, 4, 6, 7, 5, 5, 8, 7, 3, 3, 6, 7, 9, 3, 0, 3, 9, 1, 7, 0, 6, 7, 3, 4, 7, 2, 2, 3, 5, 8, 6, 3, 7, 2, 5, 3, 6, 8, 2, 3, 0, 4, 5, 7, 1, 2, 5, 2, 8, 2, 0, 8, 1, 8, 1, 1, 0, 0, 4, 1, 0, 6, 6, 4, 2, 2, 9, 2, 1, 6, 1, 4, 3, 1, 5, 9, 8, 6, 9, 1, 4, 8, 7, 9, 6, 3, 5, 7, 8, 0, 0, 0, 5, 5, 0, 8, 6, 4, 1, 1, 4, 5, 3, 5, 7, 3, 1, 9, 6, 5, 1, 6, 3, 2, 9, 5, 2, 3, 1, 3, 0, 9, 2, 0, 8, 4, 8, 3, 5, 7, 3, 2, 4, 7, 1, 3, 3, 8, 4, 1, 6, 2, 8, 0, 6, 4, 0, 4, 5, 3, 0, 8, 1, 5, 8, 9, 9, 1, 1, 7, 9, 1, 3, 5, 9, 3, 7, 3, 5, 4, 0, 8, 5, 6, 0, 8, 4, 4, 3, 3, 2, 5, 3, 2, 7, 2, 1, 3, 0, 5, 3, 1, 7, 3, 0, 5, 2, 6, 3, 2, 7, 8, 3, 8, 6, 6, 3, 0, 3, 3, 2, 1, 5, 2, 8, 3, 0, 7, 3, 0, 2, 4, 3, 7, 6, 0, 5, 4, 3, 1, 2, 1, 2, 4, 2, 6, 1, 1, 4, 9, 1, 2, 2, 0, 6, 5, 8, 4, 3, 0, 4, 8, 2, 2, 1, 2, 3, 0, 4, 1, 6, 6, 8, 0, 1, 2, 6, 0, 5, 3, 3, 1, 5, 3, 2, 6, 1, 1, 6, 3, 8, 5, 0, 8, 8, 0, 6, 5, 3, 7, 5, 1, 3, 5, 7, 1, 7, 3, 0, 5, 8, 4, 3, 4, 5, 3, 0, 7, 5, 3, 3, 5, 8, 0, 0, 3, 8, 8, 5, 3, 1, 1, 4, 3, 7, 8, 8, 3, 0, 1, 1, 3, 8, 4, 3, 4, 2, 9, 3, 7, 1, 6, 4, 9, 3, 9, 1, 7, 7, 5, 6, 2, 3, 2, 6, 0, 4, 9, 6, 0, 7, 7, 4, 0, 5, 6, 8, 2, 2, 8, 9, 7, 3, 3, 1, 5, 6, 1, 0, 2, 0, 2, 0, 0, 3, 7, 8, 1, 2, 5, 1, 1, 2, 3, 5, 6, 0, 2, 4]\n"
          ]
        }
      ]
    },
    {
      "cell_type": "code",
      "metadata": {
        "id": "sdztzQv5CrDO",
        "colab": {
          "base_uri": "https://localhost:8080/"
        },
        "outputId": "7d95392b-00ea-4930-c716-584f9e3c0cf3"
      },
      "source": [
        "X = np.array(X).reshape(-1, img_size, img_size, 1)\n",
        "Y_binary = to_categorical(Y)\n",
        "print(X)\n",
        "print(Y_binary)"
      ],
      "execution_count": 34,
      "outputs": [
        {
          "output_type": "stream",
          "name": "stdout",
          "text": [
            "[[[[0.36542745]\n",
            "   [0.50941176]\n",
            "   [0.53411765]\n",
            "   ...\n",
            "   [0.40603913]\n",
            "   [0.40818824]\n",
            "   [0.40784314]]\n",
            "\n",
            "  [[0.47962353]\n",
            "   [0.51515294]\n",
            "   [0.53827451]\n",
            "   ...\n",
            "   [0.4057256 ]\n",
            "   [0.41280001]\n",
            "   [0.41298825]]\n",
            "\n",
            "  [[0.51184314]\n",
            "   [0.5227451 ]\n",
            "   [0.54392157]\n",
            "   ...\n",
            "   [0.41411755]\n",
            "   [0.4186667 ]\n",
            "   [0.42352941]]\n",
            "\n",
            "  ...\n",
            "\n",
            "  [[0.2627451 ]\n",
            "   [0.2627451 ]\n",
            "   [0.2627451 ]\n",
            "   ...\n",
            "   [0.27254902]\n",
            "   [0.2745098 ]\n",
            "   [0.2745098 ]]\n",
            "\n",
            "  [[0.2627451 ]\n",
            "   [0.2627451 ]\n",
            "   [0.2627451 ]\n",
            "   ...\n",
            "   [0.27058824]\n",
            "   [0.2745098 ]\n",
            "   [0.2745098 ]]\n",
            "\n",
            "  [[0.2627451 ]\n",
            "   [0.2627451 ]\n",
            "   [0.2627451 ]\n",
            "   ...\n",
            "   [0.27058824]\n",
            "   [0.2745098 ]\n",
            "   [0.2745098 ]]]\n",
            "\n",
            "\n",
            " [[[0.3866353 ]\n",
            "   [0.40737257]\n",
            "   [0.38454899]\n",
            "   ...\n",
            "   [0.26023705]\n",
            "   [0.2762975 ]\n",
            "   [0.21794539]]\n",
            "\n",
            "  [[0.37551367]\n",
            "   [0.35843132]\n",
            "   [0.370902  ]\n",
            "   ...\n",
            "   [0.18337315]\n",
            "   [0.20614962]\n",
            "   [0.2556859 ]]\n",
            "\n",
            "  [[0.36400001]\n",
            "   [0.41741177]\n",
            "   [0.38235293]\n",
            "   ...\n",
            "   [0.23411746]\n",
            "   [0.21999943]\n",
            "   [0.20290192]]\n",
            "\n",
            "  ...\n",
            "\n",
            "  [[0.21858823]\n",
            "   [0.19082354]\n",
            "   [0.16627452]\n",
            "   ...\n",
            "   [0.23764936]\n",
            "   [0.2366278 ]\n",
            "   [0.21019646]]\n",
            "\n",
            "  [[0.14447378]\n",
            "   [0.16862554]\n",
            "   [0.1114522 ]\n",
            "   ...\n",
            "   [0.19278841]\n",
            "   [0.29049719]\n",
            "   [0.25496716]]\n",
            "\n",
            "  [[0.16136456]\n",
            "   [0.16047103]\n",
            "   [0.08250943]\n",
            "   ...\n",
            "   [0.3087046 ]\n",
            "   [0.28337376]\n",
            "   [0.23391478]]]\n",
            "\n",
            "\n",
            " [[[0.49732941]\n",
            "   [0.45755686]\n",
            "   [0.4462549 ]\n",
            "   ...\n",
            "   [0.5372549 ]\n",
            "   [0.53333333]\n",
            "   [0.52694118]]\n",
            "\n",
            "  [[0.46639216]\n",
            "   [0.43098039]\n",
            "   [0.41939216]\n",
            "   ...\n",
            "   [0.5372549 ]\n",
            "   [0.53333333]\n",
            "   [0.54031372]]\n",
            "\n",
            "  [[0.46490197]\n",
            "   [0.40849019]\n",
            "   [0.42215686]\n",
            "   ...\n",
            "   [0.53333333]\n",
            "   [0.53333333]\n",
            "   [0.53333333]]\n",
            "\n",
            "  ...\n",
            "\n",
            "  [[0.4169414 ]\n",
            "   [0.47201958]\n",
            "   [0.50323564]\n",
            "   ...\n",
            "   [0.53196052]\n",
            "   [0.23401713]\n",
            "   [0.39503743]]\n",
            "\n",
            "  [[0.55231067]\n",
            "   [0.45185947]\n",
            "   [0.66282456]\n",
            "   ...\n",
            "   [0.30062998]\n",
            "   [0.89309013]\n",
            "   [0.33961637]]\n",
            "\n",
            "  [[0.52558101]\n",
            "   [0.21573323]\n",
            "   [0.49729483]\n",
            "   ...\n",
            "   [0.59350849]\n",
            "   [0.50603985]\n",
            "   [0.32961967]]]\n",
            "\n",
            "\n",
            " ...\n",
            "\n",
            "\n",
            " [[[0.13333333]\n",
            "   [0.13343137]\n",
            "   [0.12696078]\n",
            "   ...\n",
            "   [0.44562745]\n",
            "   [0.44170588]\n",
            "   [0.43778431]]\n",
            "\n",
            "  [[0.13333333]\n",
            "   [0.1295098 ]\n",
            "   [0.12696078]\n",
            "   ...\n",
            "   [0.45158579]\n",
            "   [0.44668627]\n",
            "   [0.45023529]]\n",
            "\n",
            "  [[0.13333333]\n",
            "   [0.13017892]\n",
            "   [0.12627451]\n",
            "   ...\n",
            "   [0.44829657]\n",
            "   [0.54428448]\n",
            "   [0.56125744]]\n",
            "\n",
            "  ...\n",
            "\n",
            "  [[0.36205882]\n",
            "   [0.3739852 ]\n",
            "   [0.38960775]\n",
            "   ...\n",
            "   [0.57378675]\n",
            "   [0.5615515 ]\n",
            "   [0.56862745]]\n",
            "\n",
            "  [[0.34992168]\n",
            "   [0.38086263]\n",
            "   [0.36507832]\n",
            "   ...\n",
            "   [0.56323529]\n",
            "   [0.56078431]\n",
            "   [0.56470588]]\n",
            "\n",
            "  [[0.35045094]\n",
            "   [0.35543141]\n",
            "   [0.35632599]\n",
            "   ...\n",
            "   [0.54080404]\n",
            "   [0.56436927]\n",
            "   [0.56756855]]]\n",
            "\n",
            "\n",
            " [[[0.96059314]\n",
            "   [0.95686275]\n",
            "   [0.96078431]\n",
            "   ...\n",
            "   [0.9375098 ]\n",
            "   [0.94117647]\n",
            "   [0.9372549 ]]\n",
            "\n",
            "  [[0.95784314]\n",
            "   [0.96078431]\n",
            "   [0.96078431]\n",
            "   ...\n",
            "   [0.94509804]\n",
            "   [0.94117647]\n",
            "   [0.9372549 ]]\n",
            "\n",
            "  [[0.96078431]\n",
            "   [0.96343137]\n",
            "   [0.96078431]\n",
            "   ...\n",
            "   [0.94117647]\n",
            "   [0.9372549 ]\n",
            "   [0.9372549 ]]\n",
            "\n",
            "  ...\n",
            "\n",
            "  [[0.95688722]\n",
            "   [0.94443629]\n",
            "   [0.95296565]\n",
            "   ...\n",
            "   [0.94443629]\n",
            "   [0.94571084]\n",
            "   [0.9507107 ]]\n",
            "\n",
            "  [[0.94803922]\n",
            "   [0.95999511]\n",
            "   [0.95609801]\n",
            "   ...\n",
            "   [0.94940198]\n",
            "   [0.94727448]\n",
            "   [0.93622556]]\n",
            "\n",
            "  [[0.95117158]\n",
            "   [0.94586277]\n",
            "   [0.96157352]\n",
            "   ...\n",
            "   [0.94202941]\n",
            "   [0.95569117]\n",
            "   [0.93908823]]]\n",
            "\n",
            "\n",
            " [[[0.51960784]\n",
            "   [0.82647059]\n",
            "   [0.45294118]\n",
            "   ...\n",
            "   [0.72745098]\n",
            "   [0.75098039]\n",
            "   [0.77745098]]\n",
            "\n",
            "  [[0.40098039]\n",
            "   [0.70686275]\n",
            "   [0.43921569]\n",
            "   ...\n",
            "   [0.74509804]\n",
            "   [0.7372549 ]\n",
            "   [0.76470588]]\n",
            "\n",
            "  [[0.42647059]\n",
            "   [0.53431373]\n",
            "   [0.47352941]\n",
            "   ...\n",
            "   [0.71764706]\n",
            "   [0.74509804]\n",
            "   [0.76470588]]\n",
            "\n",
            "  ...\n",
            "\n",
            "  [[0.15490196]\n",
            "   [0.11862745]\n",
            "   [0.18921569]\n",
            "   ...\n",
            "   [0.6245098 ]\n",
            "   [0.64509804]\n",
            "   [0.62745098]]\n",
            "\n",
            "  [[0.07156863]\n",
            "   [0.10294118]\n",
            "   [0.13529412]\n",
            "   ...\n",
            "   [0.64117647]\n",
            "   [0.64901961]\n",
            "   [0.55392157]]\n",
            "\n",
            "  [[0.02843137]\n",
            "   [0.02156863]\n",
            "   [0.09901961]\n",
            "   ...\n",
            "   [0.66666667]\n",
            "   [0.67254902]\n",
            "   [0.60294118]]]]\n",
            "[[0. 0. 0. ... 0. 1. 0.]\n",
            " [0. 1. 0. ... 0. 0. 0.]\n",
            " [0. 0. 1. ... 0. 0. 0.]\n",
            " ...\n",
            " [1. 0. 0. ... 0. 0. 0.]\n",
            " [0. 0. 1. ... 0. 0. 0.]\n",
            " [0. 0. 0. ... 0. 0. 0.]]\n"
          ]
        }
      ]
    },
    {
      "cell_type": "code",
      "metadata": {
        "id": "DDoPeBwzCs_3"
      },
      "source": [
        "model = Sequential()\n",
        "\n",
        "model.add(Conv2D(40, (3, 3), input_shape=(100,100,1)))\n",
        "model.add(Activation('relu'))\n",
        "model.add(MaxPooling2D(pool_size=(2, 2)))\n",
        "model.add(Dropout(0.3))\n",
        "\n",
        "model.add(Conv2D(60, (3, 3)))\n",
        "model.add(Activation('relu'))\n",
        "model.add(MaxPooling2D(pool_size=(2, 2)))\n",
        "model.add(Dropout(0.3))\n",
        "\n",
        "model.add(Conv2D(80, (3, 3)))\n",
        "model.add(Activation('relu'))\n",
        "model.add(MaxPooling2D(pool_size=(2, 2)))\n",
        "model.add(Dropout(0.3))\n",
        "\n",
        "model.add(Flatten())\n",
        "\n",
        "model.add(Dense(100))\n",
        "model.add(Activation('relu'))\n",
        " \n",
        "model.add(Dense(10))\n",
        "model.add(Activation('softmax'))\n",
        "\n"
      ],
      "execution_count": 35,
      "outputs": []
    },
    {
      "cell_type": "code",
      "metadata": {
        "id": "-6qz1QWCCwBS"
      },
      "source": [
        "model.compile(loss='categorical_crossentropy',\n",
        "              optimizer='adam',\n",
        "              metrics=['accuracy'],\n",
        "              )"
      ],
      "execution_count": 36,
      "outputs": []
    },
    {
      "cell_type": "code",
      "metadata": {
        "id": "6J1Va0JKCyGv",
        "colab": {
          "base_uri": "https://localhost:8080/"
        },
        "outputId": "6518caca-c389-4028-8989-2890e828561c"
      },
      "source": [
        "history = model.fit(X, Y_binary,\n",
        "          batch_size = 32,\n",
        "          epochs=20, validation_split = 0.1)\n",
        " \n",
        "model.save(\"/content/drive/My Drive/CV_Project_2/Models/{NAME}.model\")"
      ],
      "execution_count": 37,
      "outputs": [
        {
          "output_type": "stream",
          "name": "stdout",
          "text": [
            "Epoch 1/20\n",
            "82/82 [==============================] - 4s 36ms/step - loss: 2.2862 - accuracy: 0.1288 - val_loss: 2.2620 - val_accuracy: 0.1787\n",
            "Epoch 2/20\n",
            "82/82 [==============================] - 2s 30ms/step - loss: 2.2202 - accuracy: 0.1846 - val_loss: 2.2289 - val_accuracy: 0.1821\n",
            "Epoch 3/20\n",
            "82/82 [==============================] - 2s 30ms/step - loss: 2.1078 - accuracy: 0.2458 - val_loss: 1.9879 - val_accuracy: 0.2852\n",
            "Epoch 4/20\n",
            "82/82 [==============================] - 2s 30ms/step - loss: 1.9540 - accuracy: 0.3085 - val_loss: 1.9114 - val_accuracy: 0.2887\n",
            "Epoch 5/20\n",
            "82/82 [==============================] - 3s 31ms/step - loss: 1.8626 - accuracy: 0.3330 - val_loss: 1.9588 - val_accuracy: 0.2955\n",
            "Epoch 6/20\n",
            "82/82 [==============================] - 3s 31ms/step - loss: 1.7805 - accuracy: 0.3628 - val_loss: 2.1333 - val_accuracy: 0.2474\n",
            "Epoch 7/20\n",
            "82/82 [==============================] - 3s 31ms/step - loss: 1.6592 - accuracy: 0.4190 - val_loss: 1.8160 - val_accuracy: 0.3643\n",
            "Epoch 8/20\n",
            "82/82 [==============================] - 3s 31ms/step - loss: 1.5433 - accuracy: 0.4580 - val_loss: 1.7807 - val_accuracy: 0.3711\n",
            "Epoch 9/20\n",
            "82/82 [==============================] - 3s 31ms/step - loss: 1.3766 - accuracy: 0.5226 - val_loss: 1.8214 - val_accuracy: 0.3814\n",
            "Epoch 10/20\n",
            "82/82 [==============================] - 2s 30ms/step - loss: 1.2557 - accuracy: 0.5722 - val_loss: 1.9184 - val_accuracy: 0.3471\n",
            "Epoch 11/20\n",
            "82/82 [==============================] - 2s 30ms/step - loss: 1.1085 - accuracy: 0.6219 - val_loss: 1.7654 - val_accuracy: 0.4021\n",
            "Epoch 12/20\n",
            "82/82 [==============================] - 3s 31ms/step - loss: 1.0177 - accuracy: 0.6460 - val_loss: 1.7751 - val_accuracy: 0.3986\n",
            "Epoch 13/20\n",
            "82/82 [==============================] - 2s 30ms/step - loss: 0.8841 - accuracy: 0.6969 - val_loss: 1.8871 - val_accuracy: 0.3986\n",
            "Epoch 14/20\n",
            "82/82 [==============================] - 2s 30ms/step - loss: 0.7134 - accuracy: 0.7569 - val_loss: 2.1150 - val_accuracy: 0.4158\n",
            "Epoch 15/20\n",
            "82/82 [==============================] - 3s 31ms/step - loss: 0.6648 - accuracy: 0.7829 - val_loss: 2.1469 - val_accuracy: 0.3643\n",
            "Epoch 16/20\n",
            "82/82 [==============================] - 3s 31ms/step - loss: 0.5753 - accuracy: 0.8062 - val_loss: 2.1572 - val_accuracy: 0.4021\n",
            "Epoch 17/20\n",
            "82/82 [==============================] - 3s 31ms/step - loss: 0.5271 - accuracy: 0.8215 - val_loss: 2.2570 - val_accuracy: 0.3883\n",
            "Epoch 18/20\n",
            "82/82 [==============================] - 3s 31ms/step - loss: 0.4405 - accuracy: 0.8536 - val_loss: 2.4722 - val_accuracy: 0.4055\n",
            "Epoch 19/20\n",
            "82/82 [==============================] - 3s 32ms/step - loss: 0.3846 - accuracy: 0.8716 - val_loss: 2.6180 - val_accuracy: 0.3883\n",
            "Epoch 20/20\n",
            "82/82 [==============================] - 3s 32ms/step - loss: 0.3637 - accuracy: 0.8788 - val_loss: 2.5404 - val_accuracy: 0.3918\n",
            "INFO:tensorflow:Assets written to: /content/drive/My Drive/CV_Project_2/Models/{NAME}.model/assets\n"
          ]
        }
      ]
    },
    {
      "cell_type": "code",
      "metadata": {
        "colab": {
          "base_uri": "https://localhost:8080/",
          "height": 297
        },
        "id": "nwBehCznwCOP",
        "outputId": "81822bd7-c732-4e66-884a-4b55e63c60c5"
      },
      "source": [
        "plt.figure(1)\n",
        "\n",
        "# summarize history for accuracy\n",
        "\n",
        "plt.subplot(211)\n",
        "plt.plot(history.history['accuracy'])\n",
        "plt.plot(history.history['val_accuracy'])\n",
        "plt.title('Model Accuracy')\n",
        "plt.ylabel('Accuracy')\n",
        "plt.xlabel('Epoch')\n",
        "plt.legend(['Training', 'Validation'], loc='lower right')\n",
        "\n",
        "# summarize history for loss\n",
        "\n",
        "plt.subplot(212)\n",
        "plt.plot(history.history['loss'])\n",
        "plt.plot(history.history['val_loss'])\n",
        "plt.title('Model Loss')\n",
        "plt.ylabel('Loss')\n",
        "plt.xlabel('Epoch')\n",
        "plt.legend(['Training', 'Validation'], loc='upper right')\n",
        "\n",
        "plt.tight_layout()\n",
        "\n",
        "plt.show()"
      ],
      "execution_count": 38,
      "outputs": [
        {
          "output_type": "display_data",
          "data": {
            "image/png": "[encoded data removed]",
            "text/plain": [
              "<Figure size 432x288 with 2 Axes>"
            ]
          },
          "metadata": {
            "needs_background": "light"
          }
        }
      ]
    },
    {
      "cell_type": "code",
      "metadata": {
        "id": "beJUTvwfCz4Z"
      },
      "source": [
        "def prepare(filepath):\n",
        "    img_size = 100 \n",
        "    img = cv2.imread(filepath, cv2.IMREAD_GRAYSCALE)/255  \n",
        "    img_resize = cv2.resize(img, (img_size, img_size))  \n",
        "    return img_resize.reshape(-1, img_size, img_size, 1)"
      ],
      "execution_count": 39,
      "outputs": []
    },
    {
      "cell_type": "code",
      "metadata": {
        "id": "tDl7IH22C2hS",
        "colab": {
          "base_uri": "https://localhost:8080/"
        },
        "outputId": "a7444174-f7ad-4c1c-aaff-15374744c826"
      },
      "source": [
        "prediction = model.predict(prepare(\"/content/drive/My Drive/CV_Project_2/Test/pizza.jpg\"))\n",
        "print((prediction))\n",
        "\n",
        "# CATEGORIES = [\"ButterNaan\", \"Burger\",\"Chapati\",\"Chai\",\"Samosa\",\"Pizza\"]\n",
        "CATEGORIES = [\"Burger\", \"ButterNaan\",\"Chai\",\"Chapati\",\"Pizza\",\"Samosa\",\"Dhokla\",\"Jalebi\",\"Kulfi\",\"Paani Puri\"]\n",
        "\n",
        "pred_class = CATEGORIES[np.argmax(prediction)]\n",
        "print(pred_class)"
      ],
      "execution_count": 45,
      "outputs": [
        {
          "output_type": "stream",
          "name": "stdout",
          "text": [
            "[[5.9522573e-02 1.0950688e-02 1.6966973e-03 1.4958408e-02 5.0745070e-01\n",
            "  3.4796624e-03 2.9642475e-01 1.0494208e-01 2.7663712e-04 2.9772840e-04]]\n",
            "Pizza\n"
          ]
        }
      ]
    },
    {
      "cell_type": "markdown",
      "source": [
        ""
      ],
      "metadata": {
        "id": "2-e2QHfcQVAZ"
      }
    }
  ]
}